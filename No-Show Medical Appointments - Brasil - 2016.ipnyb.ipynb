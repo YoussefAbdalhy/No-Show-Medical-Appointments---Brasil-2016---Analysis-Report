{
 "cells": [
  {
   "cell_type": "markdown",
   "id": "e6689576",
   "metadata": {},
   "source": [
    "\n",
    "# Project: Investigate a Dataset - [No-Show Medical Appointments - Brasil - 2016]\n",
    "\n",
    "## Table of Contents\n",
    "<ul>\n",
    "<li><a href=\"#intro\">Introduction</a></li>\n",
    "<li><a href=\"#wrangling\">Data Wrangling</a></li>\n",
    "<li><a href=\"#eda\">Exploratory Data Analysis</a></li>\n",
    "<li><a href=\"#conclusions\">Conclusions</a></li>\n",
    "</ul>"
   ]
  },
  {
   "cell_type": "markdown",
   "id": "da2b916d",
   "metadata": {},
   "source": [
    "<a id='intro'></a>\n",
    "## Introduction\n",
    "\n",
    "### Dataset Description \n",
    "\n",
    "This dataset collects information from 100k medical appointments in Brazil and is focused on the question of whether or not patients show up for their appointment. A number of characteristics about the patient are included in each row.\n",
    "<ul>\n",
    "<li>PatientId          --> it is a unique number per each patient.</li>\n",
    "<li>AppointmentID      --> it is a unique number per each appointment.</li>\n",
    "<li>Gender             --> Patient's gender.</li>\n",
    "<li>ScheduledDay       --> tells us on what day the patient set up their appointment.</li>\n",
    "<li>AppointmentDay --> tells us on what day the patient should attend their appointment.</li>\n",
    "<li>Age --> Patient's age.</li>\n",
    "<li>Neighbourhood --> indicates the location of the hospital - not the paitent.</li>\n",
    "<li>Scholarship -->  indicates whether or not the patient is enrolled in Brasilian welfare program.</li>\n",
    "<li>Hipertension</li>\n",
    "<li>Diabetes</li>\n",
    "<li>Alcoholism</li>\n",
    "<li>Handcap</li>\n",
    "<li>SMS_received --> indicate if the paitent has recevied a reminder sms before this appointment or not</li>\n",
    "<li>No-show --> Be careful about the encoding it says ‘No’ if the patient showed up to their appointment, and ‘Yes’ if they did not show up. </li>\n",
    "</ul>\n",
    "\n",
    "\n",
    "### Questions for Analysis\n",
    "<ul> \n",
    "    <li>What is the dataset age distribution and attendance distribution?</li>\n",
    "    <li>What is the effect of having a scholarship on the attendance rate?</li>\n",
    "    <li>Is there any coloration between the gender and the attendance?</li>\n",
    "    <li>What is the distribution of scholarships between the two gender?</li>\n",
    "    <li>Does sending a confirmation SMS could increase the attendance rate?</li>\n",
    "\n",
    "\n",
    "\n",
    "</ul>\n",
    "\n"
   ]
  },
  {
   "cell_type": "markdown",
   "id": "473cac21",
   "metadata": {},
   "source": [
    "<a id='wrangling'></a>\n",
    "## Data Wrangling"
   ]
  },
  {
   "cell_type": "markdown",
   "id": "a1d838fc",
   "metadata": {},
   "source": [
    "- Loading the data and investigating it to determine the required cleanning process"
   ]
  },
  {
   "cell_type": "code",
   "execution_count": 1,
   "id": "c7777c7e",
   "metadata": {},
   "outputs": [],
   "source": [
    "import pandas as pd\n",
    "import matplotlib.pyplot as plt\n",
    "import numpy as np \n",
    "import seaborn as sns\n",
    "%matplotlib inline"
   ]
  },
  {
   "cell_type": "code",
   "execution_count": 2,
   "id": "be63b9c0",
   "metadata": {},
   "outputs": [],
   "source": [
    "#loading the dataset\n",
    "df = pd.read_csv('noshowappointments-kagglev2-may-2016.csv')"
   ]
  },
  {
   "cell_type": "code",
   "execution_count": 3,
   "id": "76c09113",
   "metadata": {},
   "outputs": [
    {
     "data": {
      "text/html": [
       "<div>\n",
       "<style scoped>\n",
       "    .dataframe tbody tr th:only-of-type {\n",
       "        vertical-align: middle;\n",
       "    }\n",
       "\n",
       "    .dataframe tbody tr th {\n",
       "        vertical-align: top;\n",
       "    }\n",
       "\n",
       "    .dataframe thead th {\n",
       "        text-align: right;\n",
       "    }\n",
       "</style>\n",
       "<table border=\"1\" class=\"dataframe\">\n",
       "  <thead>\n",
       "    <tr style=\"text-align: right;\">\n",
       "      <th></th>\n",
       "      <th>PatientId</th>\n",
       "      <th>AppointmentID</th>\n",
       "      <th>Gender</th>\n",
       "      <th>ScheduledDay</th>\n",
       "      <th>AppointmentDay</th>\n",
       "      <th>Age</th>\n",
       "      <th>Neighbourhood</th>\n",
       "      <th>Scholarship</th>\n",
       "      <th>Hipertension</th>\n",
       "      <th>Diabetes</th>\n",
       "      <th>Alcoholism</th>\n",
       "      <th>Handcap</th>\n",
       "      <th>SMS_received</th>\n",
       "      <th>No-show</th>\n",
       "    </tr>\n",
       "  </thead>\n",
       "  <tbody>\n",
       "    <tr>\n",
       "      <th>0</th>\n",
       "      <td>2.987250e+13</td>\n",
       "      <td>5642903</td>\n",
       "      <td>F</td>\n",
       "      <td>2016-04-29T18:38:08Z</td>\n",
       "      <td>2016-04-29T00:00:00Z</td>\n",
       "      <td>62</td>\n",
       "      <td>JARDIM DA PENHA</td>\n",
       "      <td>0</td>\n",
       "      <td>1</td>\n",
       "      <td>0</td>\n",
       "      <td>0</td>\n",
       "      <td>0</td>\n",
       "      <td>0</td>\n",
       "      <td>No</td>\n",
       "    </tr>\n",
       "    <tr>\n",
       "      <th>1</th>\n",
       "      <td>5.589978e+14</td>\n",
       "      <td>5642503</td>\n",
       "      <td>M</td>\n",
       "      <td>2016-04-29T16:08:27Z</td>\n",
       "      <td>2016-04-29T00:00:00Z</td>\n",
       "      <td>56</td>\n",
       "      <td>JARDIM DA PENHA</td>\n",
       "      <td>0</td>\n",
       "      <td>0</td>\n",
       "      <td>0</td>\n",
       "      <td>0</td>\n",
       "      <td>0</td>\n",
       "      <td>0</td>\n",
       "      <td>No</td>\n",
       "    </tr>\n",
       "    <tr>\n",
       "      <th>2</th>\n",
       "      <td>4.262962e+12</td>\n",
       "      <td>5642549</td>\n",
       "      <td>F</td>\n",
       "      <td>2016-04-29T16:19:04Z</td>\n",
       "      <td>2016-04-29T00:00:00Z</td>\n",
       "      <td>62</td>\n",
       "      <td>MATA DA PRAIA</td>\n",
       "      <td>0</td>\n",
       "      <td>0</td>\n",
       "      <td>0</td>\n",
       "      <td>0</td>\n",
       "      <td>0</td>\n",
       "      <td>0</td>\n",
       "      <td>No</td>\n",
       "    </tr>\n",
       "    <tr>\n",
       "      <th>3</th>\n",
       "      <td>8.679512e+11</td>\n",
       "      <td>5642828</td>\n",
       "      <td>F</td>\n",
       "      <td>2016-04-29T17:29:31Z</td>\n",
       "      <td>2016-04-29T00:00:00Z</td>\n",
       "      <td>8</td>\n",
       "      <td>PONTAL DE CAMBURI</td>\n",
       "      <td>0</td>\n",
       "      <td>0</td>\n",
       "      <td>0</td>\n",
       "      <td>0</td>\n",
       "      <td>0</td>\n",
       "      <td>0</td>\n",
       "      <td>No</td>\n",
       "    </tr>\n",
       "    <tr>\n",
       "      <th>4</th>\n",
       "      <td>8.841186e+12</td>\n",
       "      <td>5642494</td>\n",
       "      <td>F</td>\n",
       "      <td>2016-04-29T16:07:23Z</td>\n",
       "      <td>2016-04-29T00:00:00Z</td>\n",
       "      <td>56</td>\n",
       "      <td>JARDIM DA PENHA</td>\n",
       "      <td>0</td>\n",
       "      <td>1</td>\n",
       "      <td>1</td>\n",
       "      <td>0</td>\n",
       "      <td>0</td>\n",
       "      <td>0</td>\n",
       "      <td>No</td>\n",
       "    </tr>\n",
       "  </tbody>\n",
       "</table>\n",
       "</div>"
      ],
      "text/plain": [
       "      PatientId  AppointmentID Gender          ScheduledDay  \\\n",
       "0  2.987250e+13        5642903      F  2016-04-29T18:38:08Z   \n",
       "1  5.589978e+14        5642503      M  2016-04-29T16:08:27Z   \n",
       "2  4.262962e+12        5642549      F  2016-04-29T16:19:04Z   \n",
       "3  8.679512e+11        5642828      F  2016-04-29T17:29:31Z   \n",
       "4  8.841186e+12        5642494      F  2016-04-29T16:07:23Z   \n",
       "\n",
       "         AppointmentDay  Age      Neighbourhood  Scholarship  Hipertension  \\\n",
       "0  2016-04-29T00:00:00Z   62    JARDIM DA PENHA            0             1   \n",
       "1  2016-04-29T00:00:00Z   56    JARDIM DA PENHA            0             0   \n",
       "2  2016-04-29T00:00:00Z   62      MATA DA PRAIA            0             0   \n",
       "3  2016-04-29T00:00:00Z    8  PONTAL DE CAMBURI            0             0   \n",
       "4  2016-04-29T00:00:00Z   56    JARDIM DA PENHA            0             1   \n",
       "\n",
       "   Diabetes  Alcoholism  Handcap  SMS_received No-show  \n",
       "0         0           0        0             0      No  \n",
       "1         0           0        0             0      No  \n",
       "2         0           0        0             0      No  \n",
       "3         0           0        0             0      No  \n",
       "4         1           0        0             0      No  "
      ]
     },
     "execution_count": 3,
     "metadata": {},
     "output_type": "execute_result"
    }
   ],
   "source": [
    "df.head()"
   ]
  },
  {
   "cell_type": "code",
   "execution_count": 4,
   "id": "9091b23e",
   "metadata": {},
   "outputs": [
    {
     "name": "stdout",
     "output_type": "stream",
     "text": [
      "<class 'pandas.core.frame.DataFrame'>\n",
      "RangeIndex: 110527 entries, 0 to 110526\n",
      "Data columns (total 14 columns):\n",
      " #   Column          Non-Null Count   Dtype  \n",
      "---  ------          --------------   -----  \n",
      " 0   PatientId       110527 non-null  float64\n",
      " 1   AppointmentID   110527 non-null  int64  \n",
      " 2   Gender          110527 non-null  object \n",
      " 3   ScheduledDay    110527 non-null  object \n",
      " 4   AppointmentDay  110527 non-null  object \n",
      " 5   Age             110527 non-null  int64  \n",
      " 6   Neighbourhood   110527 non-null  object \n",
      " 7   Scholarship     110527 non-null  int64  \n",
      " 8   Hipertension    110527 non-null  int64  \n",
      " 9   Diabetes        110527 non-null  int64  \n",
      " 10  Alcoholism      110527 non-null  int64  \n",
      " 11  Handcap         110527 non-null  int64  \n",
      " 12  SMS_received    110527 non-null  int64  \n",
      " 13  No-show         110527 non-null  object \n",
      "dtypes: float64(1), int64(8), object(5)\n",
      "memory usage: 11.8+ MB\n"
     ]
    }
   ],
   "source": [
    "df.info()"
   ]
  },
  {
   "cell_type": "markdown",
   "id": "eeb8f707",
   "metadata": {},
   "source": [
    "## Datatype checking:\n",
    " <ul><li> All IDs should be string as no mathematical operations will be performed on them</li>\n",
    "    <li>Scheduled Day and appointment day: we need to replace the t that is seprating the date and the time and convert it to date-time type</li>\n",
    "    </ul>\n",
    "    \n",
    "To avoid any mis-understanding and make claculations more easy I will replace No-show column to be attendance and the values to be 0 for not attending / 1 for attending "
   ]
  },
  {
   "cell_type": "code",
   "execution_count": 5,
   "id": "263c1582",
   "metadata": {},
   "outputs": [
    {
     "data": {
      "text/html": [
       "<div>\n",
       "<style scoped>\n",
       "    .dataframe tbody tr th:only-of-type {\n",
       "        vertical-align: middle;\n",
       "    }\n",
       "\n",
       "    .dataframe tbody tr th {\n",
       "        vertical-align: top;\n",
       "    }\n",
       "\n",
       "    .dataframe thead th {\n",
       "        text-align: right;\n",
       "    }\n",
       "</style>\n",
       "<table border=\"1\" class=\"dataframe\">\n",
       "  <thead>\n",
       "    <tr style=\"text-align: right;\">\n",
       "      <th></th>\n",
       "      <th>patientid</th>\n",
       "      <th>appointmentid</th>\n",
       "      <th>gender</th>\n",
       "      <th>scheduledday</th>\n",
       "      <th>appointmentday</th>\n",
       "      <th>age</th>\n",
       "      <th>neighbourhood</th>\n",
       "      <th>scholarship</th>\n",
       "      <th>hipertension</th>\n",
       "      <th>diabetes</th>\n",
       "      <th>alcoholism</th>\n",
       "      <th>handcap</th>\n",
       "      <th>sms_received</th>\n",
       "      <th>no-show</th>\n",
       "    </tr>\n",
       "  </thead>\n",
       "  <tbody>\n",
       "    <tr>\n",
       "      <th>0</th>\n",
       "      <td>2.987250e+13</td>\n",
       "      <td>5642903</td>\n",
       "      <td>F</td>\n",
       "      <td>2016-04-29T18:38:08Z</td>\n",
       "      <td>2016-04-29T00:00:00Z</td>\n",
       "      <td>62</td>\n",
       "      <td>JARDIM DA PENHA</td>\n",
       "      <td>0</td>\n",
       "      <td>1</td>\n",
       "      <td>0</td>\n",
       "      <td>0</td>\n",
       "      <td>0</td>\n",
       "      <td>0</td>\n",
       "      <td>No</td>\n",
       "    </tr>\n",
       "    <tr>\n",
       "      <th>1</th>\n",
       "      <td>5.589978e+14</td>\n",
       "      <td>5642503</td>\n",
       "      <td>M</td>\n",
       "      <td>2016-04-29T16:08:27Z</td>\n",
       "      <td>2016-04-29T00:00:00Z</td>\n",
       "      <td>56</td>\n",
       "      <td>JARDIM DA PENHA</td>\n",
       "      <td>0</td>\n",
       "      <td>0</td>\n",
       "      <td>0</td>\n",
       "      <td>0</td>\n",
       "      <td>0</td>\n",
       "      <td>0</td>\n",
       "      <td>No</td>\n",
       "    </tr>\n",
       "    <tr>\n",
       "      <th>2</th>\n",
       "      <td>4.262962e+12</td>\n",
       "      <td>5642549</td>\n",
       "      <td>F</td>\n",
       "      <td>2016-04-29T16:19:04Z</td>\n",
       "      <td>2016-04-29T00:00:00Z</td>\n",
       "      <td>62</td>\n",
       "      <td>MATA DA PRAIA</td>\n",
       "      <td>0</td>\n",
       "      <td>0</td>\n",
       "      <td>0</td>\n",
       "      <td>0</td>\n",
       "      <td>0</td>\n",
       "      <td>0</td>\n",
       "      <td>No</td>\n",
       "    </tr>\n",
       "    <tr>\n",
       "      <th>3</th>\n",
       "      <td>8.679512e+11</td>\n",
       "      <td>5642828</td>\n",
       "      <td>F</td>\n",
       "      <td>2016-04-29T17:29:31Z</td>\n",
       "      <td>2016-04-29T00:00:00Z</td>\n",
       "      <td>8</td>\n",
       "      <td>PONTAL DE CAMBURI</td>\n",
       "      <td>0</td>\n",
       "      <td>0</td>\n",
       "      <td>0</td>\n",
       "      <td>0</td>\n",
       "      <td>0</td>\n",
       "      <td>0</td>\n",
       "      <td>No</td>\n",
       "    </tr>\n",
       "    <tr>\n",
       "      <th>4</th>\n",
       "      <td>8.841186e+12</td>\n",
       "      <td>5642494</td>\n",
       "      <td>F</td>\n",
       "      <td>2016-04-29T16:07:23Z</td>\n",
       "      <td>2016-04-29T00:00:00Z</td>\n",
       "      <td>56</td>\n",
       "      <td>JARDIM DA PENHA</td>\n",
       "      <td>0</td>\n",
       "      <td>1</td>\n",
       "      <td>1</td>\n",
       "      <td>0</td>\n",
       "      <td>0</td>\n",
       "      <td>0</td>\n",
       "      <td>No</td>\n",
       "    </tr>\n",
       "    <tr>\n",
       "      <th>...</th>\n",
       "      <td>...</td>\n",
       "      <td>...</td>\n",
       "      <td>...</td>\n",
       "      <td>...</td>\n",
       "      <td>...</td>\n",
       "      <td>...</td>\n",
       "      <td>...</td>\n",
       "      <td>...</td>\n",
       "      <td>...</td>\n",
       "      <td>...</td>\n",
       "      <td>...</td>\n",
       "      <td>...</td>\n",
       "      <td>...</td>\n",
       "      <td>...</td>\n",
       "    </tr>\n",
       "    <tr>\n",
       "      <th>110522</th>\n",
       "      <td>2.572134e+12</td>\n",
       "      <td>5651768</td>\n",
       "      <td>F</td>\n",
       "      <td>2016-05-03T09:15:35Z</td>\n",
       "      <td>2016-06-07T00:00:00Z</td>\n",
       "      <td>56</td>\n",
       "      <td>MARIA ORTIZ</td>\n",
       "      <td>0</td>\n",
       "      <td>0</td>\n",
       "      <td>0</td>\n",
       "      <td>0</td>\n",
       "      <td>0</td>\n",
       "      <td>1</td>\n",
       "      <td>No</td>\n",
       "    </tr>\n",
       "    <tr>\n",
       "      <th>110523</th>\n",
       "      <td>3.596266e+12</td>\n",
       "      <td>5650093</td>\n",
       "      <td>F</td>\n",
       "      <td>2016-05-03T07:27:33Z</td>\n",
       "      <td>2016-06-07T00:00:00Z</td>\n",
       "      <td>51</td>\n",
       "      <td>MARIA ORTIZ</td>\n",
       "      <td>0</td>\n",
       "      <td>0</td>\n",
       "      <td>0</td>\n",
       "      <td>0</td>\n",
       "      <td>0</td>\n",
       "      <td>1</td>\n",
       "      <td>No</td>\n",
       "    </tr>\n",
       "    <tr>\n",
       "      <th>110524</th>\n",
       "      <td>1.557663e+13</td>\n",
       "      <td>5630692</td>\n",
       "      <td>F</td>\n",
       "      <td>2016-04-27T16:03:52Z</td>\n",
       "      <td>2016-06-07T00:00:00Z</td>\n",
       "      <td>21</td>\n",
       "      <td>MARIA ORTIZ</td>\n",
       "      <td>0</td>\n",
       "      <td>0</td>\n",
       "      <td>0</td>\n",
       "      <td>0</td>\n",
       "      <td>0</td>\n",
       "      <td>1</td>\n",
       "      <td>No</td>\n",
       "    </tr>\n",
       "    <tr>\n",
       "      <th>110525</th>\n",
       "      <td>9.213493e+13</td>\n",
       "      <td>5630323</td>\n",
       "      <td>F</td>\n",
       "      <td>2016-04-27T15:09:23Z</td>\n",
       "      <td>2016-06-07T00:00:00Z</td>\n",
       "      <td>38</td>\n",
       "      <td>MARIA ORTIZ</td>\n",
       "      <td>0</td>\n",
       "      <td>0</td>\n",
       "      <td>0</td>\n",
       "      <td>0</td>\n",
       "      <td>0</td>\n",
       "      <td>1</td>\n",
       "      <td>No</td>\n",
       "    </tr>\n",
       "    <tr>\n",
       "      <th>110526</th>\n",
       "      <td>3.775115e+14</td>\n",
       "      <td>5629448</td>\n",
       "      <td>F</td>\n",
       "      <td>2016-04-27T13:30:56Z</td>\n",
       "      <td>2016-06-07T00:00:00Z</td>\n",
       "      <td>54</td>\n",
       "      <td>MARIA ORTIZ</td>\n",
       "      <td>0</td>\n",
       "      <td>0</td>\n",
       "      <td>0</td>\n",
       "      <td>0</td>\n",
       "      <td>0</td>\n",
       "      <td>1</td>\n",
       "      <td>No</td>\n",
       "    </tr>\n",
       "  </tbody>\n",
       "</table>\n",
       "<p>110527 rows × 14 columns</p>\n",
       "</div>"
      ],
      "text/plain": [
       "           patientid  appointmentid gender          scheduledday  \\\n",
       "0       2.987250e+13        5642903      F  2016-04-29T18:38:08Z   \n",
       "1       5.589978e+14        5642503      M  2016-04-29T16:08:27Z   \n",
       "2       4.262962e+12        5642549      F  2016-04-29T16:19:04Z   \n",
       "3       8.679512e+11        5642828      F  2016-04-29T17:29:31Z   \n",
       "4       8.841186e+12        5642494      F  2016-04-29T16:07:23Z   \n",
       "...              ...            ...    ...                   ...   \n",
       "110522  2.572134e+12        5651768      F  2016-05-03T09:15:35Z   \n",
       "110523  3.596266e+12        5650093      F  2016-05-03T07:27:33Z   \n",
       "110524  1.557663e+13        5630692      F  2016-04-27T16:03:52Z   \n",
       "110525  9.213493e+13        5630323      F  2016-04-27T15:09:23Z   \n",
       "110526  3.775115e+14        5629448      F  2016-04-27T13:30:56Z   \n",
       "\n",
       "              appointmentday  age      neighbourhood  scholarship  \\\n",
       "0       2016-04-29T00:00:00Z   62    JARDIM DA PENHA            0   \n",
       "1       2016-04-29T00:00:00Z   56    JARDIM DA PENHA            0   \n",
       "2       2016-04-29T00:00:00Z   62      MATA DA PRAIA            0   \n",
       "3       2016-04-29T00:00:00Z    8  PONTAL DE CAMBURI            0   \n",
       "4       2016-04-29T00:00:00Z   56    JARDIM DA PENHA            0   \n",
       "...                      ...  ...                ...          ...   \n",
       "110522  2016-06-07T00:00:00Z   56        MARIA ORTIZ            0   \n",
       "110523  2016-06-07T00:00:00Z   51        MARIA ORTIZ            0   \n",
       "110524  2016-06-07T00:00:00Z   21        MARIA ORTIZ            0   \n",
       "110525  2016-06-07T00:00:00Z   38        MARIA ORTIZ            0   \n",
       "110526  2016-06-07T00:00:00Z   54        MARIA ORTIZ            0   \n",
       "\n",
       "        hipertension  diabetes  alcoholism  handcap  sms_received no-show  \n",
       "0                  1         0           0        0             0      No  \n",
       "1                  0         0           0        0             0      No  \n",
       "2                  0         0           0        0             0      No  \n",
       "3                  0         0           0        0             0      No  \n",
       "4                  1         1           0        0             0      No  \n",
       "...              ...       ...         ...      ...           ...     ...  \n",
       "110522             0         0           0        0             1      No  \n",
       "110523             0         0           0        0             1      No  \n",
       "110524             0         0           0        0             1      No  \n",
       "110525             0         0           0        0             1      No  \n",
       "110526             0         0           0        0             1      No  \n",
       "\n",
       "[110527 rows x 14 columns]"
      ]
     },
     "execution_count": 5,
     "metadata": {},
     "output_type": "execute_result"
    }
   ],
   "source": [
    "df.columns= df.columns.str.lower()\n",
    "df"
   ]
  },
  {
   "cell_type": "code",
   "execution_count": 6,
   "id": "286ca2dd",
   "metadata": {},
   "outputs": [],
   "source": [
    "df['patientid'] = df['patientid'].astype(str)\n",
    "df['appointmentid'] = df['appointmentid'].astype(str)\n"
   ]
  },
  {
   "cell_type": "code",
   "execution_count": 7,
   "id": "eab85172",
   "metadata": {},
   "outputs": [
    {
     "name": "stdout",
     "output_type": "stream",
     "text": [
      "<class 'pandas.core.frame.DataFrame'>\n",
      "RangeIndex: 110527 entries, 0 to 110526\n",
      "Data columns (total 14 columns):\n",
      " #   Column          Non-Null Count   Dtype \n",
      "---  ------          --------------   ----- \n",
      " 0   patientid       110527 non-null  object\n",
      " 1   appointmentid   110527 non-null  object\n",
      " 2   gender          110527 non-null  object\n",
      " 3   scheduledday    110527 non-null  object\n",
      " 4   appointmentday  110527 non-null  object\n",
      " 5   age             110527 non-null  int64 \n",
      " 6   neighbourhood   110527 non-null  object\n",
      " 7   scholarship     110527 non-null  int64 \n",
      " 8   hipertension    110527 non-null  int64 \n",
      " 9   diabetes        110527 non-null  int64 \n",
      " 10  alcoholism      110527 non-null  int64 \n",
      " 11  handcap         110527 non-null  int64 \n",
      " 12  sms_received    110527 non-null  int64 \n",
      " 13  no-show         110527 non-null  object\n",
      "dtypes: int64(7), object(7)\n",
      "memory usage: 11.8+ MB\n"
     ]
    }
   ],
   "source": [
    "df.info()"
   ]
  },
  {
   "cell_type": "code",
   "execution_count": 8,
   "id": "612e3a6d",
   "metadata": {},
   "outputs": [],
   "source": [
    "df.rename(columns={'no-show':'attendance'},inplace = True)"
   ]
  },
  {
   "cell_type": "code",
   "execution_count": 9,
   "id": "5d1e706d",
   "metadata": {},
   "outputs": [
    {
     "name": "stdout",
     "output_type": "stream",
     "text": [
      "<class 'pandas.core.frame.DataFrame'>\n",
      "RangeIndex: 110527 entries, 0 to 110526\n",
      "Data columns (total 14 columns):\n",
      " #   Column          Non-Null Count   Dtype \n",
      "---  ------          --------------   ----- \n",
      " 0   patientid       110527 non-null  object\n",
      " 1   appointmentid   110527 non-null  object\n",
      " 2   gender          110527 non-null  object\n",
      " 3   scheduledday    110527 non-null  object\n",
      " 4   appointmentday  110527 non-null  object\n",
      " 5   age             110527 non-null  int64 \n",
      " 6   neighbourhood   110527 non-null  object\n",
      " 7   scholarship     110527 non-null  int64 \n",
      " 8   hipertension    110527 non-null  int64 \n",
      " 9   diabetes        110527 non-null  int64 \n",
      " 10  alcoholism      110527 non-null  int64 \n",
      " 11  handcap         110527 non-null  int64 \n",
      " 12  sms_received    110527 non-null  int64 \n",
      " 13  attendance      110527 non-null  object\n",
      "dtypes: int64(7), object(7)\n",
      "memory usage: 11.8+ MB\n"
     ]
    }
   ],
   "source": [
    "df.info()"
   ]
  },
  {
   "cell_type": "code",
   "execution_count": 10,
   "id": "eff28b7b",
   "metadata": {},
   "outputs": [
    {
     "name": "stdout",
     "output_type": "stream",
     "text": [
      "<class 'pandas.core.frame.DataFrame'>\n",
      "RangeIndex: 110527 entries, 0 to 110526\n",
      "Data columns (total 14 columns):\n",
      " #   Column          Non-Null Count   Dtype \n",
      "---  ------          --------------   ----- \n",
      " 0   patientid       110527 non-null  object\n",
      " 1   appointmentid   110527 non-null  object\n",
      " 2   gender          110527 non-null  object\n",
      " 3   scheduledday    110527 non-null  object\n",
      " 4   appointmentday  110527 non-null  object\n",
      " 5   age             110527 non-null  int64 \n",
      " 6   neighbourhood   110527 non-null  object\n",
      " 7   scholarship     110527 non-null  int64 \n",
      " 8   hipertension    110527 non-null  int64 \n",
      " 9   diabetes        110527 non-null  int64 \n",
      " 10  alcoholism      110527 non-null  int64 \n",
      " 11  handcap         110527 non-null  int64 \n",
      " 12  sms_received    110527 non-null  int64 \n",
      " 13  attendance      110527 non-null  object\n",
      "dtypes: int64(7), object(7)\n",
      "memory usage: 11.8+ MB\n"
     ]
    }
   ],
   "source": [
    "df['attendance'] = df['attendance'].replace('No','attended')\n",
    "df['attendance'] = df['attendance'].replace('Yes','not-attended')\n",
    "df.info()\n"
   ]
  },
  {
   "cell_type": "code",
   "execution_count": 11,
   "id": "ec07b89f",
   "metadata": {
    "scrolled": false
   },
   "outputs": [],
   "source": [
    "df['scheduledday']= pd.to_datetime(df['scheduledday'])\n",
    "df['appointmentday']= pd.to_datetime(df['appointmentday'])\n"
   ]
  },
  {
   "cell_type": "code",
   "execution_count": 12,
   "id": "5229e1e1",
   "metadata": {},
   "outputs": [
    {
     "name": "stdout",
     "output_type": "stream",
     "text": [
      "<class 'pandas.core.frame.DataFrame'>\n",
      "RangeIndex: 110527 entries, 0 to 110526\n",
      "Data columns (total 14 columns):\n",
      " #   Column          Non-Null Count   Dtype              \n",
      "---  ------          --------------   -----              \n",
      " 0   patientid       110527 non-null  object             \n",
      " 1   appointmentid   110527 non-null  object             \n",
      " 2   gender          110527 non-null  object             \n",
      " 3   scheduledday    110527 non-null  datetime64[ns, UTC]\n",
      " 4   appointmentday  110527 non-null  datetime64[ns, UTC]\n",
      " 5   age             110527 non-null  int64              \n",
      " 6   neighbourhood   110527 non-null  object             \n",
      " 7   scholarship     110527 non-null  int64              \n",
      " 8   hipertension    110527 non-null  int64              \n",
      " 9   diabetes        110527 non-null  int64              \n",
      " 10  alcoholism      110527 non-null  int64              \n",
      " 11  handcap         110527 non-null  int64              \n",
      " 12  sms_received    110527 non-null  int64              \n",
      " 13  attendance      110527 non-null  object             \n",
      "dtypes: datetime64[ns, UTC](2), int64(7), object(5)\n",
      "memory usage: 11.8+ MB\n"
     ]
    }
   ],
   "source": [
    "df.info()"
   ]
  },
  {
   "cell_type": "markdown",
   "id": "dbb28854",
   "metadata": {},
   "source": [
    "## Adding  a new column\n",
    "this column calculate the gap between scheduling and appointment date"
   ]
  },
  {
   "cell_type": "code",
   "execution_count": 13,
   "id": "e6282322",
   "metadata": {},
   "outputs": [
    {
     "name": "stdout",
     "output_type": "stream",
     "text": [
      "<class 'pandas.core.frame.DataFrame'>\n",
      "RangeIndex: 110527 entries, 0 to 110526\n",
      "Data columns (total 15 columns):\n",
      " #   Column                             Non-Null Count   Dtype              \n",
      "---  ------                             --------------   -----              \n",
      " 0   patientid                          110527 non-null  object             \n",
      " 1   appointmentid                      110527 non-null  object             \n",
      " 2   gender                             110527 non-null  object             \n",
      " 3   scheduledday                       110527 non-null  datetime64[ns, UTC]\n",
      " 4   appointmentday                     110527 non-null  datetime64[ns, UTC]\n",
      " 5   age                                110527 non-null  int64              \n",
      " 6   neighbourhood                      110527 non-null  object             \n",
      " 7   scholarship                        110527 non-null  int64              \n",
      " 8   hipertension                       110527 non-null  int64              \n",
      " 9   diabetes                           110527 non-null  int64              \n",
      " 10  alcoholism                         110527 non-null  int64              \n",
      " 11  handcap                            110527 non-null  int64              \n",
      " 12  sms_received                       110527 non-null  int64              \n",
      " 13  attendance                         110527 non-null  object             \n",
      " 14  gap_between_scheduled_appointment  110527 non-null  int64              \n",
      "dtypes: datetime64[ns, UTC](2), int64(8), object(5)\n",
      "memory usage: 12.6+ MB\n"
     ]
    }
   ],
   "source": [
    "df['gap_between_scheduled_appointment'] = (df['appointmentday']-df['scheduledday']).dt.days\n",
    "\n",
    "df.info()"
   ]
  },
  {
   "cell_type": "markdown",
   "id": "cc19f915",
   "metadata": {},
   "source": [
    "# Note:\n",
    "This Step I saw it on someone report on Github and I thought it is very nessesary to be included\n"
   ]
  },
  {
   "cell_type": "code",
   "execution_count": 14,
   "id": "9e35c13c",
   "metadata": {},
   "outputs": [
    {
     "name": "stdout",
     "output_type": "stream",
     "text": [
      "[ 62  56   8  76  23  39  21  19  30  29  22  28  54  15  50  40  46   4\n",
      "  13  65  45  51  32  12  61  38  79  18  63  64  85  59  55  71  49  78\n",
      "  31  58  27   6   2  11   7   0   3   1  69  68  60  67  36  10  35  20\n",
      "  26  34  33  16  42   5  47  17  41  44  37  24  66  77  81  70  53  75\n",
      "  73  52  74  43  89  57  14   9  48  83  72  25  80  87  88  84  82  90\n",
      "  94  86  91  98  92  96  93  95  97 102 115 100  99  -1]\n",
      "-1\n",
      "115\n"
     ]
    }
   ],
   "source": [
    "print(df['age'].unique())\n",
    "print(df['age'].min())\n",
    "print(df['age'].max())"
   ]
  },
  {
   "cell_type": "markdown",
   "id": "5be9905d",
   "metadata": {},
   "source": [
    "It seems that there are outlayers:\n",
    "    - ages more than 99 \n",
    "    - ages less than 0 (may be he/she is a newborn baby) \n",
    "    "
   ]
  },
  {
   "cell_type": "code",
   "execution_count": 15,
   "id": "4f3f945e",
   "metadata": {},
   "outputs": [],
   "source": [
    "df= df[(df['age']<100) & (df['age']>= 0) ]"
   ]
  },
  {
   "cell_type": "code",
   "execution_count": 16,
   "id": "7bfaa903",
   "metadata": {},
   "outputs": [
    {
     "data": {
      "text/plain": [
       "array([62, 56,  8, 76, 23, 39, 21, 19, 30, 29, 22, 28, 54, 15, 50, 40, 46,\n",
       "        4, 13, 65, 45, 51, 32, 12, 61, 38, 79, 18, 63, 64, 85, 59, 55, 71,\n",
       "       49, 78, 31, 58, 27,  6,  2, 11,  7,  0,  3,  1, 69, 68, 60, 67, 36,\n",
       "       10, 35, 20, 26, 34, 33, 16, 42,  5, 47, 17, 41, 44, 37, 24, 66, 77,\n",
       "       81, 70, 53, 75, 73, 52, 74, 43, 89, 57, 14,  9, 48, 83, 72, 25, 80,\n",
       "       87, 88, 84, 82, 90, 94, 86, 91, 98, 92, 96, 93, 95, 97, 99],\n",
       "      dtype=int64)"
      ]
     },
     "execution_count": 16,
     "metadata": {},
     "output_type": "execute_result"
    }
   ],
   "source": [
    "df['age'].unique()"
   ]
  },
  {
   "cell_type": "code",
   "execution_count": 17,
   "id": "a761c018",
   "metadata": {},
   "outputs": [
    {
     "data": {
      "text/plain": [
       "count    110515.000000\n",
       "mean         37.082242\n",
       "std          23.100482\n",
       "min           0.000000\n",
       "25%          18.000000\n",
       "50%          37.000000\n",
       "75%          55.000000\n",
       "max          99.000000\n",
       "Name: age, dtype: float64"
      ]
     },
     "execution_count": 17,
     "metadata": {},
     "output_type": "execute_result"
    }
   ],
   "source": [
    "df['age'].describe()"
   ]
  },
  {
   "cell_type": "markdown",
   "id": "9b87f669",
   "metadata": {},
   "source": [
    "<a id='eda'></a>\n",
    "# Exploratory Data Analysis"
   ]
  },
  {
   "cell_type": "markdown",
   "id": "f7f6f7df",
   "metadata": {},
   "source": [
    "## Histogram represents the dataset factors"
   ]
  },
  {
   "cell_type": "code",
   "execution_count": 18,
   "id": "ced4d976",
   "metadata": {},
   "outputs": [
    {
     "data": {
      "image/png": "[encoded data removed]",
      "text/plain": [
       "<Figure size 1080x1440 with 12 Axes>"
      ]
     },
     "metadata": {
      "needs_background": "light"
     },
     "output_type": "display_data"
    }
   ],
   "source": [
    "df.hist(figsize=(15,20));"
   ]
  },
  {
   "cell_type": "markdown",
   "id": "194d83c8",
   "metadata": {},
   "source": [
    "## Age Destribution\n"
   ]
  },
  {
   "cell_type": "code",
   "execution_count": 19,
   "id": "b17819c0",
   "metadata": {},
   "outputs": [
    {
     "name": "stdout",
     "output_type": "stream",
     "text": [
      "The Avr Age of this sample is 37.0822422295616 Year\n",
      "The Max Age of this sample is 99 Year\n",
      "The Min Age of this sample is 0 Year\n"
     ]
    },
    {
     "data": {
      "image/png": "[encoded data removed]",
      "text/plain": [
       "<Figure size 432x288 with 1 Axes>"
      ]
     },
     "metadata": {
      "needs_background": "light"
     },
     "output_type": "display_data"
    }
   ],
   "source": [
    "age_mean = df['age'].mean()\n",
    "age_max = df['age'].max()\n",
    "age_min=df['age'].min()\n",
    "\n",
    "print('The Avr Age of this sample is {} Year'.format(age_mean))\n",
    "print('The Max Age of this sample is {} Year'.format(age_max))\n",
    "print('The Min Age of this sample is {} Year'.format(age_min))\n",
    "\n",
    "plt.boxplot(df['age'])\n",
    "plt.title(\"Age Destribution\");\n",
    "plt.ylabel('Age in Years');\n",
    "\n",
    "\n",
    "plt.show()"
   ]
  },
  {
   "cell_type": "code",
   "execution_count": 20,
   "id": "2b89e268",
   "metadata": {},
   "outputs": [
    {
     "data": {
      "image/png": "[encoded data removed]",
      "text/plain": [
       "<Figure size 461.125x360 with 1 Axes>"
      ]
     },
     "metadata": {
      "needs_background": "light"
     },
     "output_type": "display_data"
    }
   ],
   "source": [
    "sns.displot(df, x=df['age'], hue=df['attendance'],multiple=\"stack\",binwidth = 3);\n",
    "\n",
    "plt.title(\"Number of Patiens Over the Age Divided into Attended and Not-Attended\");\n",
    "plt.xlabel(\"Age in Years\");\n",
    "plt.ylabel('Number of Patients');"
   ]
  },
  {
   "cell_type": "markdown",
   "id": "59b9a349",
   "metadata": {},
   "source": [
    "## Scholarship "
   ]
  },
  {
   "cell_type": "code",
   "execution_count": 21,
   "id": "65a9f7d7",
   "metadata": {},
   "outputs": [],
   "source": [
    "def intial_statistics(x):\n",
    "    total_patient = len(df)\n",
    "    total_x = len(df.loc[df[x] == 1])\n",
    "    percent_of_x = total_x/total_patient\n",
    "    total_x_attended = len(df[(df['attendance']== 'attended')& (df[x]== 1)])\n",
    "    percent_x_attend = total_x_attended / total_x\n",
    "    \n",
    "    print(\"total number of Patients = {}\".format(total_patient))\n",
    "    print('\\n')\n",
    "    print('total number of Patients in {} = {}'.format(x,total_x))\n",
    "    print('Percent of {} in the total patients = {:.2%}'.format(x, percent_of_x))\n",
    "    print('\\n')\n",
    "    print('total number of Patients in {} that attended thier appointment = {}'.format(x,total_x_attended))\n",
    "    print('Percent of Patients in {} that attended thier appointment = {:.2%}'.format(x,percent_x_attend))\n",
    "    print('\\n')\n",
    "    "
   ]
  },
  {
   "cell_type": "code",
   "execution_count": 22,
   "id": "3c7fbf82",
   "metadata": {},
   "outputs": [
    {
     "name": "stdout",
     "output_type": "stream",
     "text": [
      "total number of Patients = 110515\n",
      "\n",
      "\n",
      "total number of Patients in scholarship = 10861\n",
      "Percent of scholarship in the total patients = 9.83%\n",
      "\n",
      "\n",
      "total number of Patients in scholarship that attended thier appointment = 8283\n",
      "Percent of Patients in scholarship that attended thier appointment = 76.26%\n",
      "\n",
      "\n"
     ]
    },
    {
     "data": {
      "image/png": "[encoded data removed]",
      "text/plain": [
       "<Figure size 432x288 with 1 Axes>"
      ]
     },
     "metadata": {
      "needs_background": "light"
     },
     "output_type": "display_data"
    }
   ],
   "source": [
    "intial_statistics('scholarship')\n",
    "df.groupby(['scholarship', 'attendance'])['scholarship'].count().unstack('attendance').plot(kind='bar', stacked=False);\n",
    "\n",
    "plt.title(\"Number of Patients who have Scholarship and who haven't\");\n",
    "plt.xlabel(\"Having a Scholarship\");\n",
    "plt.ylabel('Number of Patients');"
   ]
  },
  {
   "cell_type": "markdown",
   "id": "028b6407",
   "metadata": {},
   "source": [
    "## Gender"
   ]
  },
  {
   "cell_type": "code",
   "execution_count": 23,
   "id": "9d7038af",
   "metadata": {},
   "outputs": [
    {
     "name": "stdout",
     "output_type": "stream",
     "text": [
      "The total number of patients = 110515\n",
      "Percent of male patinets to the total patients = 35.00%\n",
      "Percent of female patinets to the total patients = 65.00%\n",
      "Percent of males that attended thier appointment to the total male paitents = 28.01%\n",
      "Percent of females that attended thier appointment to the total male paitents = 51.79%\n",
      "\n",
      "\n"
     ]
    },
    {
     "data": {
      "image/png": "[encoded data removed]",
      "text/plain": [
       "<Figure size 432x288 with 1 Axes>"
      ]
     },
     "metadata": {
      "needs_background": "light"
     },
     "output_type": "display_data"
    }
   ],
   "source": [
    "total_patients = len(df)\n",
    "percent_of_males = len(df[(df['gender']== 'M')])/total_patients\n",
    "percent_of_females = len(df[(df['gender']== 'F')])/total_patients\n",
    "percent_of_males_attended = len(df[(df['attendance'] == 'attended')& (df['gender']== 'M')]) / total_patients                            \n",
    "percent_of_females_attended = len(df[(df['attendance'] == 'attended')& (df['gender']== 'F')])/ total_patients\n",
    "                            \n",
    "\n",
    "                            \n",
    "print(\"The total number of patients = {}\".format(total_patients))\n",
    "                            \n",
    "print(\"Percent of male patinets to the total patients = {:.2%}\".format(percent_of_males))\n",
    "print(\"Percent of female patinets to the total patients = {:.2%}\".format(percent_of_females))\n",
    "\n",
    "print(\"Percent of males that attended thier appointment to the total male paitents = {:.2%}\".format(percent_of_males_attended))\n",
    "print(\"Percent of females that attended thier appointment to the total male paitents = {:.2%}\".format(percent_of_females_attended))\n",
    "print('\\n')\n",
    "df.groupby(['gender', 'attendance'])['gender'].count().unstack('attendance').plot(kind='bar', stacked=True);\n",
    "\n",
    "plt.title(\"Number of Patients in each Gender\");\n",
    "plt.xlabel(\"Gender\");\n",
    "plt.ylabel('Number of Patients');"
   ]
  },
  {
   "cell_type": "markdown",
   "id": "7e33cfa5",
   "metadata": {},
   "source": [
    "## Gender and Scholarship\n"
   ]
  },
  {
   "cell_type": "code",
   "execution_count": 24,
   "id": "6b8bd4b1",
   "metadata": {},
   "outputs": [
    {
     "name": "stdout",
     "output_type": "stream",
     "text": [
      "The total male patient is 38685.0\n",
      "the percent of males that have scholarship in total males is 5.19%\n",
      "\n",
      "\n",
      "The total female patient is 71830.0\n",
      "the percent of females that have scholarship in total females is 12.32%\n",
      "\n",
      "\n"
     ]
    },
    {
     "data": {
      "image/png": "[encoded data removed]",
      "text/plain": [
       "<Figure size 432x288 with 1 Axes>"
      ]
     },
     "metadata": {
      "needs_background": "light"
     },
     "output_type": "display_data"
    }
   ],
   "source": [
    "total_males = total_patients * percent_of_males\n",
    "total_females = total_patients * percent_of_females\n",
    "total_males_scholarship = len(df[(df['scholarship'] == 1)& (df['gender']== 'M')]) \n",
    "total_females_scholarship = len(df[(df['scholarship'] == 1)& (df['gender']== 'F')]) \n",
    "\n",
    "percent_of_scholarship_in_males = total_males_scholarship / total_males\n",
    "percent_of_scholarship_in_females = total_females_scholarship/total_females\n",
    "\n",
    "print('The total male patient is {}'.format(total_males))\n",
    "print('the percent of males that have scholarship in total males is {:.2%}'.format(percent_of_scholarship_in_males))\n",
    "print('\\n')\n",
    "print('The total female patient is {}'.format(total_females))\n",
    "print('the percent of females that have scholarship in total females is {:.2%}'.format(percent_of_scholarship_in_females))\n",
    "print('\\n')\n",
    "\n",
    "df.groupby(['gender', 'scholarship'])['gender'].count().unstack('scholarship').plot(kind='bar', stacked=False);\n",
    "\n",
    "plt.title(\"Number of Patients in each gender with scholarship or not\");\n",
    "plt.xlabel(\"Gender\");\n",
    "plt.ylabel('Number of Patients');"
   ]
  },
  {
   "cell_type": "markdown",
   "id": "c815afb7",
   "metadata": {},
   "source": [
    "## Sending a SMS"
   ]
  },
  {
   "cell_type": "code",
   "execution_count": 25,
   "id": "f1d80655",
   "metadata": {},
   "outputs": [
    {
     "name": "stdout",
     "output_type": "stream",
     "text": [
      "total number of Patients = 110515\n",
      "\n",
      "\n",
      "total number of Patients in sms_received = 35480\n",
      "Percent of sms_received in the total patients = 32.10%\n",
      "\n",
      "\n",
      "total number of Patients in sms_received that attended thier appointment = 25696\n",
      "Percent of Patients in sms_received that attended thier appointment = 72.42%\n",
      "\n",
      "\n",
      "the percent of paitents that did not recevie a reminder SMS and attended thier appointment =83.30%\n",
      "\n",
      "\n"
     ]
    },
    {
     "data": {
      "image/png": "[encoded data removed]",
      "text/plain": [
       "<Figure size 432x288 with 1 Axes>"
      ]
     },
     "metadata": {
      "needs_background": "light"
     },
     "output_type": "display_data"
    }
   ],
   "source": [
    "intial_statistics('sms_received')\n",
    "percent_of_attendance_without_sms = len(df[(df['sms_received'] == 0 ) & (df['attendance']=='attended')]) / len(df[df['sms_received'] == 0] )\n",
    "print('the percent of paitents that did not recevie a reminder SMS and attended thier appointment ={:.2%}'.format(percent_of_attendance_without_sms))\n",
    "print('\\n')\n",
    "df.groupby(['sms_received', 'attendance'])['sms_received'].count().unstack('attendance').plot(kind='bar', stacked=False);\n",
    "\n",
    "plt.title(\"Number of Patients who Received a SMS\");\n",
    "plt.xlabel(\"Receiving a SMS\");\n",
    "plt.ylabel('Number of Patients');"
   ]
  },
  {
   "cell_type": "markdown",
   "id": "bd5fb0c2",
   "metadata": {},
   "source": [
    "## Gap Between Scheduling and Appointment Dates"
   ]
  },
  {
   "cell_type": "code",
   "execution_count": 26,
   "id": "a23c13f3",
   "metadata": {},
   "outputs": [
    {
     "name": "stdout",
     "output_type": "stream",
     "text": [
      "The Avr waiting days between Scheduling and the Appointment day = 9.2\n",
      "The Maxmium waiting days between Scheduling and the Appointment day = 178\n"
     ]
    }
   ],
   "source": [
    "print('The Avr waiting days between Scheduling and the Appointment day = {:.2}'.format(df['gap_between_scheduled_appointment'].mean()))\n",
    "print('The Maxmium waiting days between Scheduling and the Appointment day = {}'.format(df['gap_between_scheduled_appointment'].max()))"
   ]
  },
  {
   "cell_type": "code",
   "execution_count": 27,
   "id": "12fecb6f",
   "metadata": {},
   "outputs": [
    {
     "data": {
      "text/plain": [
       "array([ -1,   1,   2,   0,   3,   8,  28,   9,  22,  10,  17,  16,  13,\n",
       "        27,  23,  20,  14,  15,  21,  42,  29,  30,  41,  31,  55,  44,\n",
       "        45,  38,  36,  37,  43,  49,  59,  51,  52,  64,  66,  90,  65,\n",
       "        83,  77,  86, 114, 108,  62,  69,  71,  56,  57,  50,  58,  40,\n",
       "        48,  72,  63,  19,  32,  33,   5,  34,  35,  11,  12,  39,  46,\n",
       "         7,   4,   6,  24,  25,  47,  26,  18,  60,  54,  61, 175,  53,\n",
       "        76,  68,  82,  75,  88,  80, 102,  78,  67,  74,  84, 111,  -2,\n",
       "        79,  85,  97,  93, 141, 154, 161, 168, 103, 132, 124,  95,  87,\n",
       "        89, 150, 125, 126, 110, 118,  73,  70,  81, 107, 109, 101, 121,\n",
       "       100, 104,  91,  96,  92, 106,  94,  -7, 138, 131, 178, 116, 145,\n",
       "       122], dtype=int64)"
      ]
     },
     "execution_count": 27,
     "metadata": {},
     "output_type": "execute_result"
    }
   ],
   "source": [
    "df['gap_between_scheduled_appointment'].unique()"
   ]
  },
  {
   "cell_type": "code",
   "execution_count": 28,
   "id": "138df737",
   "metadata": {
    "scrolled": true
   },
   "outputs": [
    {
     "data": {
      "text/plain": [
       "patientid                            38565\n",
       "appointmentid                        38565\n",
       "gender                               38565\n",
       "scheduledday                         38565\n",
       "appointmentday                       38565\n",
       "age                                  38565\n",
       "neighbourhood                        38565\n",
       "scholarship                          38565\n",
       "hipertension                         38565\n",
       "diabetes                             38565\n",
       "alcoholism                           38565\n",
       "handcap                              38565\n",
       "sms_received                         38565\n",
       "attendance                           38565\n",
       "gap_between_scheduled_appointment    38565\n",
       "dtype: int64"
      ]
     },
     "execution_count": 28,
     "metadata": {},
     "output_type": "execute_result"
    }
   ],
   "source": [
    "df[df['gap_between_scheduled_appointment']<0].count()"
   ]
  },
  {
   "cell_type": "markdown",
   "id": "227b0861",
   "metadata": {},
   "source": [
    "Around 38565 patients have thier appointment before the schedule date which unlogical, I thought first it is a typo, but the number of patients represents around 38% of the total record which exculding the posibilty of being a typo. \n",
    "this point needs further investigation. "
   ]
  },
  {
   "cell_type": "code",
   "execution_count": 29,
   "id": "a1d3afac",
   "metadata": {
    "scrolled": false
   },
   "outputs": [
    {
     "data": {
      "image/png": "[encoded data removed]",
      "text/plain": [
       "<Figure size 432x288 with 1 Axes>"
      ]
     },
     "metadata": {
      "needs_background": "light"
     },
     "output_type": "display_data"
    }
   ],
   "source": [
    "df['gap_between_scheduled_appointment'][df['attendance']=='attended'].hist(alpha=1, bins=30);\n",
    "df['gap_between_scheduled_appointment'][df['attendance']== 'not-attended'].hist(alpha=1, bins=30);\n",
    "\n",
    "plt.title(\"Number of Patients Vs The Waiting Days\");\n",
    "plt.xlabel(\"Gap Between Scheduled and Appointment Date in Days\");\n",
    "plt.ylabel('Number of Patients');"
   ]
  },
  {
   "cell_type": "markdown",
   "id": "8982a951",
   "metadata": {},
   "source": [
    "The shorten awaiting period the more patients show up. Patiens scheduling appointments for the same day are much more likely to show up "
   ]
  },
  {
   "cell_type": "code",
   "execution_count": 30,
   "id": "ad69a124",
   "metadata": {},
   "outputs": [
    {
     "data": {
      "text/plain": [
       "4294967295"
      ]
     },
     "execution_count": 30,
     "metadata": {},
     "output_type": "execute_result"
    }
   ],
   "source": [
    "from subprocess import call\n",
    "call(['python', '-m', 'nbconvert', 'Investigate_a_Dataset.ipynb'])"
   ]
  },
  {
   "cell_type": "markdown",
   "id": "105412f3",
   "metadata": {},
   "source": [
    " <a id='conclusions'></a>\n",
    "## Conclusions\n"
   ]
  },
  {
   "cell_type": "markdown",
   "id": "46c25c59",
   "metadata": {},
   "source": [
    "After exploring the dataset, I made some changes on the column names to make it easy during the analysis process and also renamed some to avoid any misunderstanding. After cleaning the dataset and exclude outliers, a new column has been calculated in order to share more useful insights about our dataset.\n",
    "The most interesting finding is:\n",
    "<ul> <li>Regarding the Age:</li>\n",
    "    <ul><li>The average age of this dataset is 37 years</li>\n",
    "    <li>Some of these patients are babies less than a year</li>\n",
    "    <li>The maximum age of this data is 99 years</li></ul> \n",
    "\t<li>Regarding the Gap between the scheduling date and the appointment date:</li>\n",
    "<ul><li>The average gap = 9.2 days</li>\n",
    "\t<li>The maximum gap = 178 days which seems a little weird that some one schedule and appointment after more than 5 months.</li>\n",
    "    <li>The shorten awaiting period the more patients show up. Patiens scheduling appointments for the same day are much more likely to show up </li> </ul>\n",
    "<li>The effect of having scholarship:</li>\n",
    "<ul><li>Less than 10% of the patients recorded in this dataset have a scholarship.</li>\n",
    "<li>Almost there is a very slight difference between the percentage of attendance in patients that have a scholarship and those that haven’t.</li> </ul>\n",
    "<li>Regarding the Patients’ gender and scholarship:</li>\n",
    "<ul><li>Males represent 35% of the records and around 28% of them have attended their appointments</li> \n",
    "<li>Females represents 65% of the records and around 51% of them have attended their appointments</li>\n",
    "<li>Females are more likely to attend their appointments </li>\n",
    "<li>Only 5.1% of Males have a scholarship while Females have 12.3%</li></ul>\n",
    "<li>Regarding Receiving SMS:</li>\n",
    "<ul><li>There is almost no difference between the rate of attendance between patients who received a SMS and those who did not.</li></ul>\n",
    "\n",
    "</ul>"
   ]
  },
  {
   "cell_type": "markdown",
   "id": "007bf932",
   "metadata": {},
   "source": [
    "## Limitation: "
   ]
  },
  {
   "cell_type": "markdown",
   "id": "27ae6467",
   "metadata": {},
   "source": [
    "<ul>\n",
    "    <li>After investigating the gap between scheduling and appointment date I found that some of them are in negative value, which means that there is something wrong and need further investigation with the dataset owner. </li>\n",
    "    \n",
    "<li>When the gap between scheduling and appointment date is equal to zero it makes sensce that some of patients had booked their appointment on the same day.</li>\n",
    "<li>The negative values cannot be neglected or dropped as it represents 38565 patients which represents around 38% of the total records </li>\n",
    "    </ul>\n"
   ]
  }
 ],
 "metadata": {
  "kernelspec": {
   "display_name": "Python 3 (ipykernel)",
   "language": "python",
   "name": "python3"
  },
  "language_info": {
   "codemirror_mode": {
    "name": "ipython",
    "version": 3
   },
   "file_extension": ".py",
   "mimetype": "text/x-python",
   "name": "python",
   "nbconvert_exporter": "python",
   "pygments_lexer": "ipython3",
   "version": "3.9.7"
  }
 },
 "nbformat": 4,
 "nbformat_minor": 5
}
